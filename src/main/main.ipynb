{
 "cells": [
  {
   "cell_type": "markdown",
   "metadata": {},
   "source": [
    "# Main"
   ]
  },
  {
   "cell_type": "markdown",
   "metadata": {},
   "source": [
    "## Import dependencies\n"
   ]
  },
  {
   "cell_type": "code",
   "execution_count": 1,
   "metadata": {},
   "outputs": [
    {
     "name": "stdout",
     "output_type": "stream",
     "text": [
      "c:\\Users\\lupam\\OneDrive\\Escritorio\\GitHub\\BamTech_choroidalyzer\\src\n",
      "c:\\Users\\lupam\\OneDrive\\Escritorio\\GitHub\\BamTech_choroidalyzer\\src\\lib\n",
      "c:\\Users\\lupam\\OneDrive\\Escritorio\\GitHub\\BamTech_choroidalyzer\\src\\utility\n",
      "c:\\Users\\lupam\\OneDrive\\Escritorio\\GitHub\\BamTech_choroidalyzer\n",
      "c:\\Users\\lupam\\OneDrive\\Escritorio\\GitHub\\BamTech_choroidalyzer\\data\n"
     ]
    }
   ],
   "source": [
    "#Import libraries\n",
    "import numpy as np\n",
    "import cv2\n",
    "import sys\n",
    "import os\n",
    "\n",
    "#Import access to other files\n",
    "sys.path.append(\"..\")  # Agrega la carpeta padre de `src` al path de búsqueda\n",
    "import utility.access_path\n",
    "\n"
   ]
  },
  {
   "cell_type": "markdown",
   "metadata": {},
   "source": [
    "## Pre-proccessing"
   ]
  },
  {
   "cell_type": "code",
   "execution_count": 2,
   "metadata": {},
   "outputs": [],
   "source": [
    "#Copio images from raw to preprocessed\n",
    "folder_raw = \"../../pilar_data/OC009_2023_08_15/raw\"\n",
    "folder_preprocessed = \"../../pilar_data/OC009_2023_08_15/preprocessed\"\n",
    "\n",
    "#Create folder if not exists\n",
    "if not os.path.exists(folder_preprocessed):\n",
    "    os.makedirs(folder_preprocessed)\n",
    "\n",
    "#Copy images\n",
    "files = os.listdir(folder_raw)\n",
    "for file in files:\n",
    "    if file.endswith(\".jpg\"):\n",
    "        file_path = os.path.join(folder_raw, file)\n",
    "        img = cv2.imread(file_path)\n",
    "        cv2.imwrite(os.path.join(folder_preprocessed, file), img)\n",
    "\n",
    "        \n"
   ]
  },
  {
   "cell_type": "code",
   "execution_count": 3,
   "metadata": {},
   "outputs": [],
   "source": [
    "#Gray-scale\n",
    "from fun_gray_scale import gray_scale\n",
    "\n",
    "#Defino files como los nombres de todos los files dentro de folder\n",
    "files = os.listdir(folder_preprocessed)\n",
    "#Añado a cada file la dirección de la carpeta\n",
    "files = [folder_preprocessed + '/' + file for file in files]\n",
    "\n",
    "temp_files = gray_scale(files)\n"
   ]
  },
  {
   "cell_type": "code",
   "execution_count": null,
   "metadata": {},
   "outputs": [],
   "source": [
    "#Crop\n",
    "\n",
    "from fun_crop import crop\n",
    "temp_files = crop(temp_files)\n"
   ]
  },
  {
   "cell_type": "markdown",
   "metadata": {},
   "source": [
    "## Apply tool"
   ]
  },
  {
   "cell_type": "code",
   "execution_count": null,
   "metadata": {},
   "outputs": [],
   "source": [
    "#Copio images from preprocessed to processed\n",
    "folder_processed = \"../../pilar_data/OC009_2023_08_15/processed\""
   ]
  },
  {
   "cell_type": "code",
   "execution_count": null,
   "metadata": {},
   "outputs": [],
   "source": [
    "from fun_analysis_choroidalyzer import analysis_choroidalyzer\n",
    "\n"
   ]
  }
 ],
 "metadata": {
  "kernelspec": {
   "display_name": "BamTech_choroidalyzer3",
   "language": "python",
   "name": "python3"
  },
  "language_info": {
   "codemirror_mode": {
    "name": "ipython",
    "version": 3
   },
   "file_extension": ".py",
   "mimetype": "text/x-python",
   "name": "python",
   "nbconvert_exporter": "python",
   "pygments_lexer": "ipython3",
   "version": "3.10.15"
  }
 },
 "nbformat": 4,
 "nbformat_minor": 2
}
