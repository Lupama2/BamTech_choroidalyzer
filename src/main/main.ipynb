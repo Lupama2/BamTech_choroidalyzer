{
 "cells": [
  {
   "cell_type": "markdown",
   "metadata": {},
   "source": [
    "# Main"
   ]
  },
  {
   "cell_type": "markdown",
   "metadata": {},
   "source": [
    "## Import dependencies\n"
   ]
  },
  {
   "cell_type": "code",
   "execution_count": 1,
   "metadata": {},
   "outputs": [
    {
     "name": "stdout",
     "output_type": "stream",
     "text": [
      "c:\\Users\\lupam\\OneDrive\\Escritorio\\GitHub\\BamTech_choroidalyzer\\src\n",
      "c:\\Users\\lupam\\OneDrive\\Escritorio\\GitHub\\BamTech_choroidalyzer\\src\\lib\n",
      "c:\\Users\\lupam\\OneDrive\\Escritorio\\GitHub\\BamTech_choroidalyzer\\src\\utility\n",
      "c:\\Users\\lupam\\OneDrive\\Escritorio\\GitHub\\BamTech_choroidalyzer\n",
      "c:\\Users\\lupam\\OneDrive\\Escritorio\\GitHub\\BamTech_choroidalyzer\\data\n"
     ]
    }
   ],
   "source": [
    "#Import libraries\n",
    "import numpy as np\n",
    "import cv2\n",
    "import sys\n",
    "import os\n",
    "\n",
    "#Import access to other files\n",
    "sys.path.append(\"..\")  # Agrega la carpeta padre de `src` al path de búsqueda\n",
    "import utility.access_path\n",
    "\n"
   ]
  },
  {
   "cell_type": "markdown",
   "metadata": {},
   "source": [
    "## Pre-proccessing"
   ]
  },
  {
   "cell_type": "code",
   "execution_count": null,
   "metadata": {},
   "outputs": [],
   "source": [
    "#Copio images from raw to preprocessed"
   ]
  },
  {
   "cell_type": "code",
   "execution_count": 6,
   "metadata": {},
   "outputs": [],
   "source": [
    "#Gray-scale\n",
    "from fun_gray_scale import gray_scale\n",
    "\n",
    "folder = \"../../pilar_data/OC009_2023_08_15/raw\"\n",
    "\n",
    "#Defino files como los nombres de todos los files dentro de folder\n",
    "files = os.listdir(folder)\n",
    "#Añado a cada file la dirección de la carpeta\n",
    "files = [folder + '/' + file for file in files]\n",
    "\n",
    "temp_files = gray_scale(files, change_name = True)\n"
   ]
  },
  {
   "cell_type": "code",
   "execution_count": 7,
   "metadata": {},
   "outputs": [
    {
     "name": "stdout",
     "output_type": "stream",
     "text": [
      "['../../pilar_data/OC009_2023_08_15/preprocessed/OC-1901-250_000000_temp.jpg', '../../pilar_data/OC009_2023_08_15/preprocessed/OC-1901-250_000001_temp.jpg', '../../pilar_data/OC009_2023_08_15/preprocessed/OC-1901-250_000002_temp.jpg', '../../pilar_data/OC009_2023_08_15/preprocessed/OC-1901-250_000003_temp.jpg', '../../pilar_data/OC009_2023_08_15/preprocessed/OC-1901-250_000004_temp.jpg', '../../pilar_data/OC009_2023_08_15/preprocessed/OC-1901-250_000005_temp.jpg', '../../pilar_data/OC009_2023_08_15/preprocessed/OC-1901-250_000006_temp.jpg', '../../pilar_data/OC009_2023_08_15/preprocessed/OC-1901-250_000007_temp.jpg', '../../pilar_data/OC009_2023_08_15/preprocessed/OC-1901-250_000008_temp.jpg', '../../pilar_data/OC009_2023_08_15/preprocessed/OC-1901-250_000009_temp.jpg', '../../pilar_data/OC009_2023_08_15/preprocessed/OC-1901-250_000010_temp.jpg', '../../pilar_data/OC009_2023_08_15/preprocessed/OC-1901-250_000011_temp.jpg', '../../pilar_data/OC009_2023_08_15/preprocessed/OC-1901-250_000012_temp.jpg', '../../pilar_data/OC009_2023_08_15/preprocessed/OC-1901-250_000013_temp.jpg', '../../pilar_data/OC009_2023_08_15/preprocessed/OC-1901-250_000014_temp.jpg', '../../pilar_data/OC009_2023_08_15/preprocessed/OC-1901-250_000015_temp.jpg', '../../pilar_data/OC009_2023_08_15/preprocessed/OC-1901-250_000016_temp.jpg', '../../pilar_data/OC009_2023_08_15/preprocessed/OC-1901-250_000017_temp.jpg', '../../pilar_data/OC009_2023_08_15/preprocessed/OC-1901-250_000018_temp.jpg', '../../pilar_data/OC009_2023_08_15/preprocessed/OC-1901-250_000019_temp.jpg', '../../pilar_data/OC009_2023_08_15/preprocessed/OC-1901-250_000020_temp.jpg', '../../pilar_data/OC009_2023_08_15/preprocessed/OC-1901-250_000021_temp.jpg', '../../pilar_data/OC009_2023_08_15/preprocessed/OC-1901-250_000022_temp.jpg', '../../pilar_data/OC009_2023_08_15/preprocessed/OC-1901-250_000023_temp.jpg', '../../pilar_data/OC009_2023_08_15/preprocessed/OC-1901-250_000024_temp.jpg', '../../pilar_data/OC009_2023_08_15/preprocessed/OC-1901-250_000025_temp.jpg', '../../pilar_data/OC009_2023_08_15/preprocessed/OC-1901-250_000026_temp.jpg', '../../pilar_data/OC009_2023_08_15/preprocessed/OC-1901-250_000027_temp.jpg', '../../pilar_data/OC009_2023_08_15/preprocessed/OC-1901-250_000028_temp.jpg', '../../pilar_data/OC009_2023_08_15/preprocessed/OC-1901-250_000029_temp.jpg', '../../pilar_data/OC009_2023_08_15/preprocessed/OC-1901-250_000030_temp.jpg', '../../pilar_data/OC009_2023_08_15/preprocessed/OC-1901-250_000031_temp.jpg', '../../pilar_data/OC009_2023_08_15/preprocessed/OC-1901-250_000032_temp.jpg', '../../pilar_data/OC009_2023_08_15/preprocessed/OC-1901-250_000033_temp.jpg', '../../pilar_data/OC009_2023_08_15/preprocessed/OC-1901-250_000034_temp.jpg', '../../pilar_data/OC009_2023_08_15/preprocessed/OC-1901-250_000035_temp.jpg', '../../pilar_data/OC009_2023_08_15/preprocessed/OC-1901-250_000036_temp.jpg', '../../pilar_data/OC009_2023_08_15/preprocessed/OC-1901-250_000037_temp.jpg', '../../pilar_data/OC009_2023_08_15/preprocessed/OC-1901-250_000038_temp.jpg', '../../pilar_data/OC009_2023_08_15/preprocessed/OC-1901-250_000039_temp.jpg', '../../pilar_data/OC009_2023_08_15/preprocessed/OC-1901-250_000040_temp.jpg', '../../pilar_data/OC009_2023_08_15/preprocessed/OC-1901-250_000041_temp.jpg', '../../pilar_data/OC009_2023_08_15/preprocessed/OC-1901-250_000042_temp.jpg', '../../pilar_data/OC009_2023_08_15/preprocessed/OC-1901-250_000043_temp.jpg', '../../pilar_data/OC009_2023_08_15/preprocessed/OC-1901-250_000044_temp.jpg', '../../pilar_data/OC009_2023_08_15/preprocessed/OC-1901-250_000045_temp.jpg', '../../pilar_data/OC009_2023_08_15/preprocessed/OC-1901-250_000046_temp.jpg', '../../pilar_data/OC009_2023_08_15/preprocessed/OC-1901-250_000047_temp.jpg', '../../pilar_data/OC009_2023_08_15/preprocessed/OC-1901-250_000048_temp.jpg', '../../pilar_data/OC009_2023_08_15/preprocessed/OC-1901-250_000049_temp.jpg', '../../pilar_data/OC009_2023_08_15/preprocessed/OC-1901-250_000050_temp.jpg', '../../pilar_data/OC009_2023_08_15/preprocessed/OC-1901-250_000051_temp.jpg', '../../pilar_data/OC009_2023_08_15/preprocessed/OC-1901-250_000052_temp.jpg', '../../pilar_data/OC009_2023_08_15/preprocessed/OC-1901-250_000053_temp.jpg', '../../pilar_data/OC009_2023_08_15/preprocessed/OC-1901-250_000054_temp.jpg', '../../pilar_data/OC009_2023_08_15/preprocessed/OC-1901-250_000055_temp.jpg', '../../pilar_data/OC009_2023_08_15/preprocessed/OC-1901-250_000056_temp.jpg', '../../pilar_data/OC009_2023_08_15/preprocessed/OC-1901-250_000057_temp.jpg', '../../pilar_data/OC009_2023_08_15/preprocessed/OC-1901-250_000058_temp.jpg', '../../pilar_data/OC009_2023_08_15/preprocessed/OC-1901-250_000059_temp.jpg', '../../pilar_data/OC009_2023_08_15/preprocessed/OC-1901-250_000060_temp.jpg', '../../pilar_data/OC009_2023_08_15/preprocessed/OC-1901-250_000061_temp.jpg', '../../pilar_data/OC009_2023_08_15/preprocessed/OC-1901-250_000062_temp.jpg', '../../pilar_data/OC009_2023_08_15/preprocessed/OC-1901-250_000063_temp.jpg', '../../pilar_data/OC009_2023_08_15/preprocessed/OC-1901-250_000064_temp.jpg', '../../pilar_data/OC009_2023_08_15/preprocessed/OC-1901-250_000065_temp.jpg', '../../pilar_data/OC009_2023_08_15/preprocessed/OC-1901-250_000066_temp.jpg', '../../pilar_data/OC009_2023_08_15/preprocessed/OC-1901-250_000067_temp.jpg', '../../pilar_data/OC009_2023_08_15/preprocessed/OC-1901-250_000068_temp.jpg', '../../pilar_data/OC009_2023_08_15/preprocessed/OC-1901-250_000069_temp.jpg', '../../pilar_data/OC009_2023_08_15/preprocessed/OC-1901-250_000070_temp.jpg', '../../pilar_data/OC009_2023_08_15/preprocessed/OC-1901-250_000071_temp.jpg', '../../pilar_data/OC009_2023_08_15/preprocessed/OC-1901-250_000072_temp.jpg', '../../pilar_data/OC009_2023_08_15/preprocessed/OC-1901-250_000073_temp.jpg', '../../pilar_data/OC009_2023_08_15/preprocessed/OC-1901-250_000074_temp.jpg', '../../pilar_data/OC009_2023_08_15/preprocessed/OC-1901-250_000075_temp.jpg', '../../pilar_data/OC009_2023_08_15/preprocessed/OC-1901-250_000076_temp.jpg', '../../pilar_data/OC009_2023_08_15/preprocessed/OC-1901-250_000077_temp.jpg', '../../pilar_data/OC009_2023_08_15/preprocessed/OC-1901-250_000078_temp.jpg', '../../pilar_data/OC009_2023_08_15/preprocessed/OC-1901-250_000079_temp.jpg', '../../pilar_data/OC009_2023_08_15/preprocessed/OC-1901-250_000080_temp.jpg', '../../pilar_data/OC009_2023_08_15/preprocessed/OC-1901-250_000081_temp.jpg', '../../pilar_data/OC009_2023_08_15/preprocessed/OC-1901-250_000082_temp.jpg', '../../pilar_data/OC009_2023_08_15/preprocessed/OC-1901-250_000083_temp.jpg', '../../pilar_data/OC009_2023_08_15/preprocessed/OC-1901-250_000084_temp.jpg', '../../pilar_data/OC009_2023_08_15/preprocessed/OC-1901-250_000085_temp.jpg', '../../pilar_data/OC009_2023_08_15/preprocessed/OC-1901-250_000086_temp.jpg', '../../pilar_data/OC009_2023_08_15/preprocessed/OC-1901-250_000087_temp.jpg', '../../pilar_data/OC009_2023_08_15/preprocessed/OC-1901-250_000088_temp.jpg', '../../pilar_data/OC009_2023_08_15/preprocessed/OC-1901-250_000089_temp.jpg', '../../pilar_data/OC009_2023_08_15/preprocessed/OC-1901-250_000090_temp.jpg', '../../pilar_data/OC009_2023_08_15/preprocessed/OC-1901-250_000091_temp.jpg', '../../pilar_data/OC009_2023_08_15/preprocessed/OC-1901-250_000092_temp.jpg', '../../pilar_data/OC009_2023_08_15/preprocessed/OC-1901-250_000093_temp.jpg', '../../pilar_data/OC009_2023_08_15/preprocessed/OC-1901-250_000094_temp.jpg', '../../pilar_data/OC009_2023_08_15/preprocessed/OC-1901-250_000095_temp.jpg', '../../pilar_data/OC009_2023_08_15/preprocessed/OC-1901-250_000096_temp.jpg', '../../pilar_data/OC009_2023_08_15/preprocessed/OC-1901-250_001000_temp.jpg', '../../pilar_data/OC009_2023_08_15/preprocessed/OC-1901-250_001001_temp.jpg', '../../pilar_data/OC009_2023_08_15/preprocessed/OC-1901-250_001002_temp.jpg', '../../pilar_data/OC009_2023_08_15/preprocessed/OC-1901-250_001003_temp.jpg', '../../pilar_data/OC009_2023_08_15/preprocessed/OC-1901-250_001004_temp.jpg', '../../pilar_data/OC009_2023_08_15/preprocessed/OC-1901-250_001005_temp.jpg', '../../pilar_data/OC009_2023_08_15/preprocessed/OC-1901-250_001006_temp.jpg', '../../pilar_data/OC009_2023_08_15/preprocessed/OC-1901-250_001007_temp.jpg', '../../pilar_data/OC009_2023_08_15/preprocessed/OC-1901-250_001008_temp.jpg', '../../pilar_data/OC009_2023_08_15/preprocessed/OC-1901-250_001009_temp.jpg', '../../pilar_data/OC009_2023_08_15/preprocessed/OC-1901-250_001010_temp.jpg', '../../pilar_data/OC009_2023_08_15/preprocessed/OC-1901-250_001011_temp.jpg', '../../pilar_data/OC009_2023_08_15/preprocessed/OC-1901-250_001012_temp.jpg', '../../pilar_data/OC009_2023_08_15/preprocessed/OC-1901-250_001013_temp.jpg', '../../pilar_data/OC009_2023_08_15/preprocessed/OC-1901-250_001014_temp.jpg', '../../pilar_data/OC009_2023_08_15/preprocessed/OC-1901-250_001015_temp.jpg', '../../pilar_data/OC009_2023_08_15/preprocessed/OC-1901-250_001016_temp.jpg', '../../pilar_data/OC009_2023_08_15/preprocessed/OC-1901-250_001017_temp.jpg', '../../pilar_data/OC009_2023_08_15/preprocessed/OC-1901-250_001018_temp.jpg', '../../pilar_data/OC009_2023_08_15/preprocessed/OC-1901-250_001019_temp.jpg', '../../pilar_data/OC009_2023_08_15/preprocessed/OC-1901-250_001020_temp.jpg', '../../pilar_data/OC009_2023_08_15/preprocessed/OC-1901-250_001021_temp.jpg', '../../pilar_data/OC009_2023_08_15/preprocessed/OC-1901-250_001022_temp.jpg', '../../pilar_data/OC009_2023_08_15/preprocessed/OC-1901-250_001023_temp.jpg', '../../pilar_data/OC009_2023_08_15/preprocessed/OC-1901-250_001024_temp.jpg', '../../pilar_data/OC009_2023_08_15/preprocessed/OC-1901-250_001025_temp.jpg', '../../pilar_data/OC009_2023_08_15/preprocessed/OC-1901-250_001026_temp.jpg', '../../pilar_data/OC009_2023_08_15/preprocessed/OC-1901-250_001027_temp.jpg', '../../pilar_data/OC009_2023_08_15/preprocessed/OC-1901-250_001028_temp.jpg', '../../pilar_data/OC009_2023_08_15/preprocessed/OC-1901-250_001029_temp.jpg', '../../pilar_data/OC009_2023_08_15/preprocessed/OC-1901-250_001030_temp.jpg', '../../pilar_data/OC009_2023_08_15/preprocessed/OC-1901-250_001031_temp.jpg', '../../pilar_data/OC009_2023_08_15/preprocessed/OC-1901-250_001032_temp.jpg', '../../pilar_data/OC009_2023_08_15/preprocessed/OC-1901-250_001033_temp.jpg', '../../pilar_data/OC009_2023_08_15/preprocessed/OC-1901-250_001034_temp.jpg', '../../pilar_data/OC009_2023_08_15/preprocessed/OC-1901-250_001035_temp.jpg', '../../pilar_data/OC009_2023_08_15/preprocessed/OC-1901-250_001036_temp.jpg', '../../pilar_data/OC009_2023_08_15/preprocessed/OC-1901-250_001037_temp.jpg', '../../pilar_data/OC009_2023_08_15/preprocessed/OC-1901-250_001038_temp.jpg', '../../pilar_data/OC009_2023_08_15/preprocessed/OC-1901-250_001039_temp.jpg', '../../pilar_data/OC009_2023_08_15/preprocessed/OC-1901-250_001040_temp.jpg', '../../pilar_data/OC009_2023_08_15/preprocessed/OC-1901-250_001041_temp.jpg', '../../pilar_data/OC009_2023_08_15/preprocessed/OC-1901-250_001042_temp.jpg', '../../pilar_data/OC009_2023_08_15/preprocessed/OC-1901-250_001043_temp.jpg', '../../pilar_data/OC009_2023_08_15/preprocessed/OC-1901-250_001044_temp.jpg', '../../pilar_data/OC009_2023_08_15/preprocessed/OC-1901-250_001045_temp.jpg', '../../pilar_data/OC009_2023_08_15/preprocessed/OC-1901-250_001046_temp.jpg', '../../pilar_data/OC009_2023_08_15/preprocessed/OC-1901-250_001047_temp.jpg', '../../pilar_data/OC009_2023_08_15/preprocessed/OC-1901-250_001048_temp.jpg', '../../pilar_data/OC009_2023_08_15/preprocessed/OC-1901-250_001049_temp.jpg', '../../pilar_data/OC009_2023_08_15/preprocessed/OC-1901-250_001050_temp.jpg', '../../pilar_data/OC009_2023_08_15/preprocessed/OC-1901-250_001051_temp.jpg', '../../pilar_data/OC009_2023_08_15/preprocessed/OC-1901-250_001052_temp.jpg', '../../pilar_data/OC009_2023_08_15/preprocessed/OC-1901-250_001053_temp.jpg', '../../pilar_data/OC009_2023_08_15/preprocessed/OC-1901-250_001054_temp.jpg', '../../pilar_data/OC009_2023_08_15/preprocessed/OC-1901-250_001055_temp.jpg', '../../pilar_data/OC009_2023_08_15/preprocessed/OC-1901-250_001056_temp.jpg', '../../pilar_data/OC009_2023_08_15/preprocessed/OC-1901-250_001057_temp.jpg', '../../pilar_data/OC009_2023_08_15/preprocessed/OC-1901-250_001058_temp.jpg', '../../pilar_data/OC009_2023_08_15/preprocessed/OC-1901-250_001059_temp.jpg', '../../pilar_data/OC009_2023_08_15/preprocessed/OC-1901-250_001060_temp.jpg', '../../pilar_data/OC009_2023_08_15/preprocessed/OC-1901-250_001061_temp.jpg', '../../pilar_data/OC009_2023_08_15/preprocessed/OC-1901-250_001062_temp.jpg', '../../pilar_data/OC009_2023_08_15/preprocessed/OC-1901-250_001063_temp.jpg', '../../pilar_data/OC009_2023_08_15/preprocessed/OC-1901-250_001064_temp.jpg', '../../pilar_data/OC009_2023_08_15/preprocessed/OC-1901-250_001065_temp.jpg', '../../pilar_data/OC009_2023_08_15/preprocessed/OC-1901-250_001066_temp.jpg', '../../pilar_data/OC009_2023_08_15/preprocessed/OC-1901-250_001067_temp.jpg', '../../pilar_data/OC009_2023_08_15/preprocessed/OC-1901-250_001068_temp.jpg', '../../pilar_data/OC009_2023_08_15/preprocessed/OC-1901-250_001069_temp.jpg', '../../pilar_data/OC009_2023_08_15/preprocessed/OC-1901-250_001070_temp.jpg', '../../pilar_data/OC009_2023_08_15/preprocessed/OC-1901-250_001071_temp.jpg', '../../pilar_data/OC009_2023_08_15/preprocessed/OC-1901-250_001072_temp.jpg', '../../pilar_data/OC009_2023_08_15/preprocessed/OC-1901-250_001073_temp.jpg', '../../pilar_data/OC009_2023_08_15/preprocessed/OC-1901-250_001074_temp.jpg', '../../pilar_data/OC009_2023_08_15/preprocessed/OC-1901-250_001075_temp.jpg', '../../pilar_data/OC009_2023_08_15/preprocessed/OC-1901-250_001076_temp.jpg', '../../pilar_data/OC009_2023_08_15/preprocessed/OC-1901-250_001077_temp.jpg', '../../pilar_data/OC009_2023_08_15/preprocessed/OC-1901-250_001078_temp.jpg', '../../pilar_data/OC009_2023_08_15/preprocessed/OC-1901-250_001079_temp.jpg', '../../pilar_data/OC009_2023_08_15/preprocessed/OC-1901-250_001080_temp.jpg', '../../pilar_data/OC009_2023_08_15/preprocessed/OC-1901-250_001081_temp.jpg', '../../pilar_data/OC009_2023_08_15/preprocessed/OC-1901-250_001082_temp.jpg', '../../pilar_data/OC009_2023_08_15/preprocessed/OC-1901-250_001083_temp.jpg', '../../pilar_data/OC009_2023_08_15/preprocessed/OC-1901-250_001084_temp.jpg', '../../pilar_data/OC009_2023_08_15/preprocessed/OC-1901-250_001085_temp.jpg', '../../pilar_data/OC009_2023_08_15/preprocessed/OC-1901-250_001086_temp.jpg', '../../pilar_data/OC009_2023_08_15/preprocessed/OC-1901-250_001087_temp.jpg', '../../pilar_data/OC009_2023_08_15/preprocessed/OC-1901-250_001088_temp.jpg', '../../pilar_data/OC009_2023_08_15/preprocessed/OC-1901-250_001089_temp.jpg', '../../pilar_data/OC009_2023_08_15/preprocessed/OC-1901-250_001090_temp.jpg', '../../pilar_data/OC009_2023_08_15/preprocessed/OC-1901-250_001091_temp.jpg', '../../pilar_data/OC009_2023_08_15/preprocessed/OC-1901-250_001092_temp.jpg', '../../pilar_data/OC009_2023_08_15/preprocessed/OC-1901-250_001093_temp.jpg', '../../pilar_data/OC009_2023_08_15/preprocessed/OC-1901-250_001094_temp.jpg', '../../pilar_data/OC009_2023_08_15/preprocessed/OC-1901-250_001095_temp.jpg', '../../pilar_data/OC009_2023_08_15/preprocessed/OC-1901-250_001096_temp.jpg', '../../pilar_data/OC009_2023_08_15/preprocessed/OC-1901-250_002_temp.jpg', '../../pilar_data/OC009_2023_08_15/preprocessed/OC-1901-250_003_temp.jpg', '../../pilar_data/OC009_2023_08_15/preprocessed/OC-1901-250_004_temp.jpg', '../../pilar_data/OC009_2023_08_15/preprocessed/OC-1901-250_005_temp.jpg', '../../pilar_data/OC009_2023_08_15/preprocessed/OC-1901-250_006_temp.jpg', '../../pilar_data/OC009_2023_08_15/preprocessed/OC-1901-250_007_temp.jpg', '../../pilar_data/OC009_2023_08_15/preprocessed/OC-1901-250_008_temp.jpg', '../../pilar_data/OC009_2023_08_15/preprocessed/OC-1901-250_009_temp.jpg', '../../pilar_data/OC009_2023_08_15/preprocessed/OC-1901-250_010_temp.jpg', '../../pilar_data/OC009_2023_08_15/preprocessed/OC-1901-250_011_temp.jpg', '../../pilar_data/OC009_2023_08_15/preprocessed/OC-1901-250_012_temp.jpg', '../../pilar_data/OC009_2023_08_15/preprocessed/OC-1901-250_013_temp.jpg', '../../pilar_data/OC009_2023_08_15/preprocessed/OC-1901-250_014_temp.jpg', '../../pilar_data/OC009_2023_08_15/preprocessed/OC-1901-250_015_temp.jpg', '../../pilar_data/OC009_2023_08_15/preprocessed/OC-1901-250_016_temp.jpg', '../../pilar_data/OC009_2023_08_15/preprocessed/OC-1901-250_017_temp.jpg', '../../pilar_data/OC009_2023_08_15/preprocessed/OC-1901-250_018_temp.jpg', '../../pilar_data/OC009_2023_08_15/preprocessed/OC-1901-250_019_temp.jpg', '../../pilar_data/OC009_2023_08_15/preprocessed/OC-1901-250_020_temp.jpg', '../../pilar_data/OC009_2023_08_15/preprocessed/OC-1901-250_021_temp.jpg', '../../pilar_data/OC009_2023_08_15/preprocessed/OC-1901-250_022_temp.jpg', '../../pilar_data/OC009_2023_08_15/preprocessed/OC-1901-250_023_temp.jpg', '../../pilar_data/OC009_2023_08_15/preprocessed/OC-1901-250_024_temp.jpg', '../../pilar_data/OC009_2023_08_15/preprocessed/OC-1901-250_025_temp.jpg', '../../pilar_data/OC009_2023_08_15/preprocessed/OC-1901-250_026_temp.jpg', '../../pilar_data/OC009_2023_08_15/preprocessed/OC-1901-250_027_temp.jpg', '../../pilar_data/OC009_2023_08_15/preprocessed/OC-1901-250_028_temp.jpg', '../../pilar_data/OC009_2023_08_15/preprocessed/OC-1901-250_029_temp.jpg', '../../pilar_data/OC009_2023_08_15/preprocessed/OC-1901-250_030_temp.jpg', '../../pilar_data/OC009_2023_08_15/preprocessed/OC-1901-250_031_temp.jpg', '../../pilar_data/OC009_2023_08_15/preprocessed/OC-1901-250_032_temp.jpg', '../../pilar_data/OC009_2023_08_15/preprocessed/OC-1901-250_033_temp.jpg', '../../pilar_data/OC009_2023_08_15/preprocessed/OC-1901-250_034_temp.jpg', '../../pilar_data/OC009_2023_08_15/preprocessed/OC-1901-250_035_temp.jpg', '../../pilar_data/OC009_2023_08_15/preprocessed/OC-1901-250_036_temp.jpg']\n"
     ]
    }
   ],
   "source": [
    "print(temp_files)"
   ]
  },
  {
   "cell_type": "code",
   "execution_count": null,
   "metadata": {},
   "outputs": [],
   "source": [
    "#Crop\n",
    "\n",
    "from fun_crop import crop\n",
    "\n",
    "temp_files = crop(temp_files, change_name = True)\n"
   ]
  },
  {
   "cell_type": "markdown",
   "metadata": {},
   "source": [
    "## Apply tool"
   ]
  },
  {
   "cell_type": "code",
   "execution_count": 4,
   "metadata": {},
   "outputs": [
    {
     "ename": "AttributeError",
     "evalue": "'NoneType' object has no attribute 'shape'",
     "output_type": "error",
     "traceback": [
      "\u001b[1;31m---------------------------------------------------------------------------\u001b[0m",
      "\u001b[1;31mAttributeError\u001b[0m                            Traceback (most recent call last)",
      "Cell \u001b[1;32mIn[4], line 9\u001b[0m\n\u001b[0;32m      6\u001b[0m img \u001b[38;5;241m=\u001b[39m cv2\u001b[38;5;241m.\u001b[39mimread(file, cv2\u001b[38;5;241m.\u001b[39mIMREAD_GRAYSCALE)\n\u001b[0;32m      8\u001b[0m \u001b[38;5;66;03m#Imprimo dimensiones de la imagen, tipo y rangos de valores\u001b[39;00m\n\u001b[1;32m----> 9\u001b[0m \u001b[38;5;28mprint\u001b[39m(\u001b[38;5;124m\"\u001b[39m\u001b[38;5;124mDimensiones de la imagen: \u001b[39m\u001b[38;5;124m\"\u001b[39m, \u001b[43mimg\u001b[49m\u001b[38;5;241;43m.\u001b[39;49m\u001b[43mshape\u001b[49m)\n\u001b[0;32m     10\u001b[0m \u001b[38;5;28mprint\u001b[39m(\u001b[38;5;124m\"\u001b[39m\u001b[38;5;124mTipo de la imagen: \u001b[39m\u001b[38;5;124m\"\u001b[39m, img\u001b[38;5;241m.\u001b[39mdtype)\n\u001b[0;32m     11\u001b[0m \u001b[38;5;28mprint\u001b[39m(\u001b[38;5;124m\"\u001b[39m\u001b[38;5;124mRango de valores de la imagen: \u001b[39m\u001b[38;5;124m\"\u001b[39m, np\u001b[38;5;241m.\u001b[39mmin(img), np\u001b[38;5;241m.\u001b[39mmax(img))\n",
      "\u001b[1;31mAttributeError\u001b[0m: 'NoneType' object has no attribute 'shape'"
     ]
    }
   ],
   "source": [
    "#Analyze data\n",
    "\n",
    "\n",
    "#Cargo imagen de ejemplo\n",
    "file = \"example_data/image1.png\"\n",
    "img = cv2.imread(file, cv2.IMREAD_GRAYSCALE)\n",
    "\n",
    "#Imprimo dimensiones de la imagen, tipo y rangos de valores\n",
    "print(\"Dimensiones de la imagen: \", img.shape)\n",
    "print(\"Tipo de la imagen: \", img.dtype)\n",
    "print(\"Rango de valores de la imagen: \", np.min(img), np.max(img))\n",
    "print(\"Número de canales: \", img.ndim)\n",
    "\n",
    "#Cargo imagen de ejemplo de pilar\n",
    "folder = '../../pilar_data/raw/'\n",
    "file = \"image4_edited.png\"\n",
    "\n",
    "#Imprimo dimensiones de la imagen, tipo y rangos de valores\n",
    "print(\"Dimensiones de la imagen: \", img.shape)\n",
    "print(\"Tipo de la imagen: \", img.dtype)\n",
    "print(\"Rango de valores de la imagen: \", np.min(img), np.max(img))\n",
    "print(\"Número de canales: \", img.ndim)\n",
    "\n",
    "\n",
    "\n"
   ]
  },
  {
   "cell_type": "code",
   "execution_count": null,
   "metadata": {},
   "outputs": [],
   "source": [
    "from choroidalyze import Choroidalyzer\n",
    "import cv2\n",
    "\n",
    "\n",
    "# This initialises choroidalyzer. \n",
    "# It will try to automatically download the model weights from github the first time you run it. \n",
    "choroidalyzer = Choroidalyzer()\n",
    "\n",
    "#Cargo imagen de ejemplo\n",
    "file = \"example_data/image4_edited.png\"\n",
    "#Convierto imagen a blanco y negro\n",
    "img = cv2.imread(file, cv2.IMREAD_GRAYSCALE)\n",
    "#Guardo la nuena imagen\n",
    "temp_file = 'example_data/temp_image.png'\n",
    "cv2.imwrite(temp_file, img)\n",
    "file = temp_file\n",
    "\n",
    "# basic useage: get the metrics\n",
    "metrics = choroidalyzer.analyze(file) #, scale=(11.49, 3.87)\n",
    "print(metrics)\n",
    "\n",
    "# choroidalyzer also has a basic plotting function to inspect segmentation outputs\n",
    "choroidalyzer.predict_and_plot(file)"
   ]
  }
 ],
 "metadata": {
  "kernelspec": {
   "display_name": "BamTech_choroidalyzer3",
   "language": "python",
   "name": "python3"
  },
  "language_info": {
   "codemirror_mode": {
    "name": "ipython",
    "version": 3
   },
   "file_extension": ".py",
   "mimetype": "text/x-python",
   "name": "python",
   "nbconvert_exporter": "python",
   "pygments_lexer": "ipython3",
   "version": "3.10.15"
  }
 },
 "nbformat": 4,
 "nbformat_minor": 2
}
